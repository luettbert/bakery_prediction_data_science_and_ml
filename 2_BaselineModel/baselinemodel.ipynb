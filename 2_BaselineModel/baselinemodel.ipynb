{
 "cells": [
  {
   "cell_type": "markdown",
   "metadata": {},
   "source": [
    "## Laden der Trainings- und Testdaten\n",
    "\n",
    "In diesem Schritt laden wir die Trainings- und Testdatensätze aus den vorbereiteten CSV-Dateien. Dies ist eine wichtige Phase, um die Daten für das Modelltraining und die Evaluation vorzubereiten.\n",
    "\n",
    "### Laden der Daten\n",
    "\n",
    "Zunächst laden wir die Trainings- und Testdatensätze mit `pandas`:\n"
   ]
  },
  {
   "cell_type": "code",
   "execution_count": 3,
   "metadata": {},
   "outputs": [
    {
     "name": "stdout",
     "output_type": "stream",
     "text": [
      "Index(['id', 'Datum', 'Warengruppe', 'Bewoelkung', 'Temperatur',\n",
      "       'Windgeschwindigkeit', 'Wettercode', 'KielerWoche', 'Wochentag',\n",
      "       'Monat', 'Jahr', 'Jahreszeit', 'Gefühl', 'gefühl_Kalt', 'gefühl_Mild',\n",
      "       'gefühl_Warm', 'Feiertag', 'KielLauf', 'Kieler_Triathlon', 'Fußball',\n",
      "       'PaycheckEffect', 'InflationSensitivity', 'Sensitivity_High',\n",
      "       'Sensitivity_Moderate', 'Windkategorie', 'Wind_Nicht windig',\n",
      "       'Wind_Sehr windig', 'Wind_Windig', 'Jahreszeit_Frühling',\n",
      "       'Jahreszeit_Herbst', 'Jahreszeit_Sommer', 'Jahreszeit_Winter', 'Ferien',\n",
      "       'Tag_Kategorie', 'Wochenende', 'Inflation_Kategorisierung',\n",
      "       'Inflation_Kategorisierung_Neutral',\n",
      "       'Inflation_Kategorisierung_Positiv', 'Montag', 'Dienstag', 'Mittwoch',\n",
      "       'Donnerstag', 'Freitag', 'Samstag', 'Sonntag', 'Brot', 'Brötchen',\n",
      "       'Croissant', 'Konditorei', 'Kuchen', 'Saisonbrot'],\n",
      "      dtype='object')\n",
      "Index(['id', 'Datum', 'Warengruppe', 'Umsatz', 'Bewoelkung', 'Temperatur',\n",
      "       'Windgeschwindigkeit', 'Wettercode', 'KielerWoche', 'Wochentag',\n",
      "       'Monat', 'Jahr', 'Jahreszeit', 'Gefühl', 'gefühl_Kalt', 'gefühl_Mild',\n",
      "       'gefühl_Warm', 'Feiertag', 'KielLauf', 'Kieler_Triathlon', 'Fußball',\n",
      "       'PaycheckEffect', 'InflationSensitivity', 'Sensitivity_High',\n",
      "       'Sensitivity_Moderate', 'Windkategorie', 'Wind_Nicht windig',\n",
      "       'Wind_Sehr windig', 'Wind_Windig', 'Jahreszeit_Frühling',\n",
      "       'Jahreszeit_Herbst', 'Jahreszeit_Sommer', 'Jahreszeit_Winter', 'Ferien',\n",
      "       'Tag_Kategorie', 'Wochenende', 'Inflation_Kategorisierung',\n",
      "       'Inflation_Kategorisierung_Neutral',\n",
      "       'Inflation_Kategorisierung_Positiv', 'Montag', 'Dienstag', 'Mittwoch',\n",
      "       'Donnerstag', 'Freitag', 'Samstag', 'Sonntag', 'Brot', 'Brötchen',\n",
      "       'Croissant', 'Konditorei', 'Kuchen', 'Saisonbrot'],\n",
      "      dtype='object')\n"
     ]
    }
   ],
   "source": [
    "from sklearn.model_selection import train_test_split\n",
    "from sklearn.linear_model import LinearRegression\n",
    "from sklearn.metrics import mean_squared_error, r2_score\n",
    "import pandas as pd\n",
    "from sklearn.model_selection import cross_val_score\n",
    "\n",
    "\n",
    "train_data= pd.read_csv('../0_DataPreparation/imputed/imputed_data_train_with_wettercode.csv')\n",
    "test_data= pd.read_csv('../0_DataPreparation/imputed/imputed_data_test_with_wettercode.csv')\n",
    "\n",
    "print(test_data.columns)\n",
    "print(train_data.columns)\n",
    "\n"
   ]
  },
  {
   "cell_type": "markdown",
   "metadata": {},
   "source": [
    "## Definieren der Features und des Ziels\n",
    "\n",
    "In diesem Schritt werden die Merkmale (Features) und das Ziel (Target) für das Modell definiert. Das Ziel ist der \"Umsatz\", während die Features andere numerische Spalten sind.\n",
    "\n",
    "### Features und Ziel\n",
    "\n",
    "Zuerst definieren wir die Spalten, die wir als Features (Eingabedaten) verwenden möchten, und die Spalten, die wir vom Modell ausschließen müssen:\n"
   ]
  },
  {
   "cell_type": "code",
   "execution_count": 4,
   "metadata": {},
   "outputs": [],
   "source": [
    "\n",
    "# Features und Ziel definieren\n",
    "# Beispiel: Ziel ist \"Umsatz\", Features sind andere numerische Spalten\n",
    "feature_to_drop= ['id','Umsatz', 'Datum', 'Warengruppe', 'Bewoelkung', 'Temperatur',\n",
    "       'Windgeschwindigkeit', 'Wettercode',  'Wochentag',\n",
    "       'Monat', 'Jahr', 'Jahreszeit', 'Gefühl', 'InflationSensitivity',  'Windkategorie',  \n",
    "       'Tag_Kategorie',  'Inflation_Kategorisierung',\n",
    "       'Montag', 'Dienstag', 'Mittwoch',\n",
    "       'Donnerstag', 'Freitag', 'Samstag', 'Sonntag']\n",
    "feature_to_drop_y= ['id', 'Datum', 'Warengruppe', 'Bewoelkung', 'Temperatur',\n",
    "       'Windgeschwindigkeit', 'Wettercode',  'Wochentag',\n",
    "       'Monat', 'Jahr', 'Jahreszeit', 'Gefühl', 'InflationSensitivity',  'Windkategorie',  \n",
    "       'Tag_Kategorie',  'Inflation_Kategorisierung',\n",
    "       'Montag', 'Dienstag', 'Mittwoch',\n",
    "       'Donnerstag', 'Freitag', 'Samstag', 'Sonntag']\n",
    "\n",
    "\n",
    "X_train = train_data.drop(columns=feature_to_drop)  # Features: Alle außer 'Umsatz' und 'Datum'\n",
    "\n",
    "y_train = train_data['Umsatz']  # Ziel: Umsatz\n",
    "\n",
    "X_test= test_data.drop(columns=feature_to_drop_y)\n",
    "\n",
    "\n",
    "\n",
    "\n",
    "# Train-Test-Split\n",
    "#X_train, X_test, y_train, y_test = train_test_split(X, y, test_size=0.2, random_state=42)\n",
    "\n",
    "# Lineares Regressionsmodell trainieren\n",
    "model = LinearRegression()\n",
    "model.fit(X_train, y_train)\n",
    "\n",
    "# Vorhersagen\n",
    "y_pred_train = model.predict(X_train)\n",
    "y_pred_test = model.predict(X_test)\n"
   ]
  },
  {
   "cell_type": "markdown",
   "metadata": {},
   "source": [
    "## Hinzufügen der Vorhersagen zu den Testdaten und Erstellen der Ergebnistabelle\n",
    "\n",
    "In diesem Schritt fügen wir die Vorhersagen des Modells (`y_pred_test`) als neue Spalte zu den Testdaten hinzu und erstellen eine Tabelle mit den relevanten Informationen für die Einreichung.\n",
    "\n",
    "### Vorhersagen zu den Testdaten hinzufügen\n",
    "\n",
    "Wir fügen die Vorhersagen als neue Spalte `Umsatz` in die Testdaten ein und erstellen eine neue Tabelle:\n"
   ]
  },
  {
   "cell_type": "code",
   "execution_count": 5,
   "metadata": {},
   "outputs": [],
   "source": [
    "# Add y_pred_test as a new column in X_test\n",
    "X_test_with_predictions = test_data.copy()  # Make a copy to avoid modifying the original data\n",
    "X_test_with_predictions['Umsatz'] = y_pred_test\n",
    "\n",
    "# Select the 'id' and 'Umsatz' columns for the final table\n",
    "result_table = X_test_with_predictions[['id', 'Umsatz']]\n",
    "\n",
    "submission_sample = pd.read_csv('../0_DataPreparation/kaggel/sample_submission.csv')\n",
    "\n",
    "\n",
    "kaggel_result = pd.merge(submission_sample, result_table, on=['id'], how='left').fillna(0)\n",
    "\n",
    "kaggel_result=kaggel_result.drop(columns=['Umsatz_x'])\n",
    "kaggel_result.rename(columns={'Umsatz_y': 'Umsatz'}, inplace=True)\n",
    "\n",
    "kaggel_result.to_csv('submission.csv',index=False)\n",
    "result_table.to_csv('submission_without_nan.csv',index=False)"
   ]
  },
  {
   "cell_type": "markdown",
   "metadata": {},
   "source": [
    "## Modellbewertung und Analyse der Koeffizienten\n",
    "\n",
    "Nachdem das Modell trainiert wurde, bewerten wir seine Leistung anhand verschiedener Metriken und analysieren die wichtigsten Koeffizienten.\n",
    "\n",
    "### Vorhersagen und Zielwerte\n",
    "\n",
    "Wir drucken die Vorhersagen für die Testdaten (`y_pred_test`) und berechnen dann verschiedene Metriken, um die Leistung des Modells zu bewerten.\n"
   ]
  },
  {
   "cell_type": "code",
   "execution_count": 6,
   "metadata": {},
   "outputs": [
    {
     "name": "stdout",
     "output_type": "stream",
     "text": [
      "Trainingsdaten: MSE = 5499.21, R² = 0.74\n",
      "Anzahl der Features: 28\n",
      "Anzahl der Koeffizienten: 28\n",
      "\n",
      "Koeffizienten der Features:\n",
      "                              Feature   Coefficient\n",
      "13                        Wind_Windig  1.251513e+15\n",
      "11                  Wind_Nicht windig  1.251513e+15\n",
      "12                   Wind_Sehr windig  1.251513e+15\n",
      "10               Sensitivity_Moderate  5.136555e+14\n",
      "16                  Jahreszeit_Sommer  2.309259e+14\n",
      "15                  Jahreszeit_Herbst  2.309259e+14\n",
      "14                Jahreszeit_Frühling  2.309259e+14\n",
      "17                  Jahreszeit_Winter  2.309259e+14\n",
      "23                           Brötchen  2.004791e+14\n",
      "22                               Brot  2.004791e+14\n",
      "27                         Saisonbrot  2.004791e+14\n",
      "9                    Sensitivity_High  1.133408e+11\n",
      "4                            Feiertag  6.691098e+01\n",
      "19                         Wochenende  5.313209e+01\n",
      "18                             Ferien  3.879072e+01\n",
      "20  Inflation_Kategorisierung_Neutral  3.031913e+01\n",
      "5                            KielLauf  1.582132e+01\n",
      "0                         KielerWoche  1.113764e+01\n",
      "6                    Kieler_Triathlon  9.193935e+00\n",
      "21  Inflation_Kategorisierung_Positiv  6.574757e+00\n",
      "8                      PaycheckEffect  4.571864e+00\n",
      "7                             Fußball -1.725736e+01\n",
      "3                         gefühl_Warm -1.909840e+13\n",
      "2                         gefühl_Mild -1.909840e+13\n",
      "1                         gefühl_Kalt -1.909840e+13\n",
      "26                             Kuchen -3.130631e+14\n",
      "24                          Croissant -3.130631e+14\n",
      "25                         Konditorei -3.130631e+14\n",
      "[-1.39121613e+00 -9.75829346e-01 -1.21244842e+00 -1.62008214e+00\n",
      " -8.18743390e-01  7.76341813e-01  3.12395687e-01  2.65907585e-01\n",
      "  4.70923110e-01  3.69610880e-01  3.74475558e-01  4.53832721e-01\n",
      "  5.64524548e-01  3.90155648e-01  6.03731631e-01  5.41123934e-01\n",
      "  6.31631306e-01  5.60925832e-01 -8.88510988e-01 -1.33248047e+00\n",
      " -1.06643604e+00 -6.05795027e-01 -2.23617877e+00  4.36402069e-01\n",
      " -9.04981121e-02 -5.96669397e-02  3.74416281e-02  1.07816765e-01\n",
      "  1.35811441e-01 -3.21862269e+25]\n"
     ]
    }
   ],
   "source": [
    "# Modellbewertung\n",
    "mse_train = mean_squared_error(y_train, y_pred_train)\n",
    "r2_train = r2_score(y_train, y_pred_train)\n",
    "\n",
    "# Ergebnisse ausgeben\n",
    "print(f\"Trainingsdaten: MSE = {mse_train:.2f}, R² = {r2_train:.2f}\")\n",
    "print(\"Anzahl der Features:\", len(X_train.columns))\n",
    "print(\"Anzahl der Koeffizienten:\", len(model.coef_))\n",
    "# Wichtige Koeffizienten und Features\n",
    "coefficients = pd.DataFrame({'Feature': X_train.columns, 'Coefficient': model.coef_})\n",
    "print(\"\\nKoeffizienten der Features:\")\n",
    "print(coefficients.sort_values(by='Coefficient', ascending=False))\n",
    "\n",
    "scores = cross_val_score(model, X_train, y_train, cv=30, scoring='r2')\n",
    "print(scores)"
   ]
  }
 ],
 "metadata": {
  "kernelspec": {
   "display_name": "Python 3",
   "language": "python",
   "name": "python3"
  },
  "language_info": {
   "codemirror_mode": {
    "name": "ipython",
    "version": 3
   },
   "file_extension": ".py",
   "mimetype": "text/x-python",
   "name": "python",
   "nbconvert_exporter": "python",
   "pygments_lexer": "ipython3",
   "version": "3.12.1"
  }
 },
 "nbformat": 4,
 "nbformat_minor": 2
}
