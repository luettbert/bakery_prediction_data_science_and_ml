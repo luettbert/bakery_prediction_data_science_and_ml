{
 "cells": [
  {
   "cell_type": "markdown",
   "metadata": {},
   "source": [
    "## Laden der Trainings- und Testdaten\n",
    "\n",
    "In diesem Schritt laden wir die Trainings- und Testdatensätze aus den vorbereiteten CSV-Dateien. Dies ist eine wichtige Phase, um die Daten für das Modelltraining und die Evaluation vorzubereiten.\n",
    "\n",
    "### Laden der Daten\n",
    "\n",
    "Zunächst laden wir die Trainings- und Testdatensätze mit `pandas`:\n"
   ]
  },
  {
   "cell_type": "code",
   "execution_count": 1,
   "metadata": {},
   "outputs": [
    {
     "name": "stdout",
     "output_type": "stream",
     "text": [
      "Index(['id', 'Datum', 'Warengruppe', 'Bewoelkung', 'Temperatur',\n",
      "       'Windgeschwindigkeit', 'Wettercode', 'KielerWoche', 'Wochentag',\n",
      "       'Monat', 'Jahr', 'Jahreszeit', 'Gefühl', 'gefühl_Kalt', 'gefühl_Mild',\n",
      "       'gefühl_Warm', 'Feiertag', 'KielLauf', 'Kieler_Triathlon', 'Fußball',\n",
      "       'PaycheckEffect', 'InflationSensitivity', 'Sensitivity_High',\n",
      "       'Sensitivity_Moderate', 'Windkategorie', 'Wind_Nicht windig',\n",
      "       'Wind_Sehr windig', 'Wind_Windig', 'Jahreszeit_Frühling',\n",
      "       'Jahreszeit_Herbst', 'Jahreszeit_Sommer', 'Jahreszeit_Winter', 'Ferien',\n",
      "       'Tag_Kategorie', 'Wochenende', 'Inflation_Kategorisierung',\n",
      "       'Inflation_Kategorisierung_Neutral',\n",
      "       'Inflation_Kategorisierung_Positiv', 'Montag', 'Dienstag', 'Mittwoch',\n",
      "       'Donnerstag', 'Freitag', 'Samstag', 'Sonntag', 'Brot', 'Brötchen',\n",
      "       'Croissant', 'Konditorei', 'Kuchen', 'Saisonbrot'],\n",
      "      dtype='object')\n",
      "Index(['id', 'Datum', 'Warengruppe', 'Umsatz', 'Bewoelkung', 'Temperatur',\n",
      "       'Windgeschwindigkeit', 'Wettercode', 'KielerWoche', 'Wochentag',\n",
      "       'Monat', 'Jahr', 'Jahreszeit', 'Gefühl', 'gefühl_Kalt', 'gefühl_Mild',\n",
      "       'gefühl_Warm', 'Feiertag', 'KielLauf', 'Kieler_Triathlon', 'Fußball',\n",
      "       'PaycheckEffect', 'InflationSensitivity', 'Sensitivity_High',\n",
      "       'Sensitivity_Moderate', 'Windkategorie', 'Wind_Nicht windig',\n",
      "       'Wind_Sehr windig', 'Wind_Windig', 'Jahreszeit_Frühling',\n",
      "       'Jahreszeit_Herbst', 'Jahreszeit_Sommer', 'Jahreszeit_Winter', 'Ferien',\n",
      "       'Tag_Kategorie', 'Wochenende', 'Inflation_Kategorisierung',\n",
      "       'Inflation_Kategorisierung_Neutral',\n",
      "       'Inflation_Kategorisierung_Positiv', 'Montag', 'Dienstag', 'Mittwoch',\n",
      "       'Donnerstag', 'Freitag', 'Samstag', 'Sonntag', 'Brot', 'Brötchen',\n",
      "       'Croissant', 'Konditorei', 'Kuchen', 'Saisonbrot'],\n",
      "      dtype='object')\n"
     ]
    }
   ],
   "source": [
    "from sklearn.model_selection import train_test_split\n",
    "from sklearn.linear_model import LinearRegression\n",
    "from sklearn.metrics import mean_squared_error, r2_score\n",
    "import pandas as pd\n",
    "from sklearn.model_selection import cross_val_score\n",
    "\n",
    "\n",
    "train_data= pd.read_csv('../0_DataPreparation/final_data_train.csv')\n",
    "test_data= pd.read_csv('../0_DataPreparation/final_data_test.csv')\n",
    "\n",
    "print(test_data.columns)\n",
    "print(train_data.columns)\n",
    "\n"
   ]
  },
  {
   "cell_type": "markdown",
   "metadata": {},
   "source": [
    "## Definieren der Features und des Ziels\n",
    "\n",
    "In diesem Schritt werden die Merkmale (Features) und das Ziel (Target) für das Modell definiert. Das Ziel ist der \"Umsatz\", während die Features andere numerische Spalten sind.\n",
    "\n",
    "### Features und Ziel\n",
    "\n",
    "Zuerst definieren wir die Spalten, die wir als Features (Eingabedaten) verwenden möchten, und die Spalten, die wir vom Modell ausschließen müssen:\n"
   ]
  },
  {
   "cell_type": "code",
   "execution_count": 1,
   "metadata": {},
   "outputs": [
    {
     "ename": "NameError",
     "evalue": "name 'train_data' is not defined",
     "output_type": "error",
     "traceback": [
      "\u001b[1;31m---------------------------------------------------------------------------\u001b[0m",
      "\u001b[1;31mNameError\u001b[0m                                 Traceback (most recent call last)",
      "Cell \u001b[1;32mIn[1], line 17\u001b[0m\n\u001b[0;32m      3\u001b[0m feature_to_drop\u001b[38;5;241m=\u001b[39m [\u001b[38;5;124m'\u001b[39m\u001b[38;5;124mid\u001b[39m\u001b[38;5;124m'\u001b[39m,\u001b[38;5;124m'\u001b[39m\u001b[38;5;124mUmsatz\u001b[39m\u001b[38;5;124m'\u001b[39m, \u001b[38;5;124m'\u001b[39m\u001b[38;5;124mDatum\u001b[39m\u001b[38;5;124m'\u001b[39m, \u001b[38;5;124m'\u001b[39m\u001b[38;5;124mWarengruppe\u001b[39m\u001b[38;5;124m'\u001b[39m, \u001b[38;5;124m'\u001b[39m\u001b[38;5;124mBewoelkung\u001b[39m\u001b[38;5;124m'\u001b[39m, \u001b[38;5;124m'\u001b[39m\u001b[38;5;124mTemperatur\u001b[39m\u001b[38;5;124m'\u001b[39m,\n\u001b[0;32m      4\u001b[0m        \u001b[38;5;124m'\u001b[39m\u001b[38;5;124mWindgeschwindigkeit\u001b[39m\u001b[38;5;124m'\u001b[39m, \u001b[38;5;124m'\u001b[39m\u001b[38;5;124mWettercode\u001b[39m\u001b[38;5;124m'\u001b[39m,  \u001b[38;5;124m'\u001b[39m\u001b[38;5;124mWochentag\u001b[39m\u001b[38;5;124m'\u001b[39m,\n\u001b[0;32m      5\u001b[0m        \u001b[38;5;124m'\u001b[39m\u001b[38;5;124mMonat\u001b[39m\u001b[38;5;124m'\u001b[39m, \u001b[38;5;124m'\u001b[39m\u001b[38;5;124mJahr\u001b[39m\u001b[38;5;124m'\u001b[39m, \u001b[38;5;124m'\u001b[39m\u001b[38;5;124mJahreszeit\u001b[39m\u001b[38;5;124m'\u001b[39m, \u001b[38;5;124m'\u001b[39m\u001b[38;5;124mGefühl\u001b[39m\u001b[38;5;124m'\u001b[39m, \u001b[38;5;124m'\u001b[39m\u001b[38;5;124mInflationSensitivity\u001b[39m\u001b[38;5;124m'\u001b[39m,  \u001b[38;5;124m'\u001b[39m\u001b[38;5;124mWindkategorie\u001b[39m\u001b[38;5;124m'\u001b[39m,  \n\u001b[0;32m      6\u001b[0m        \u001b[38;5;124m'\u001b[39m\u001b[38;5;124mTag_Kategorie\u001b[39m\u001b[38;5;124m'\u001b[39m,  \u001b[38;5;124m'\u001b[39m\u001b[38;5;124mInflation_Kategorisierung\u001b[39m\u001b[38;5;124m'\u001b[39m,\n\u001b[0;32m      7\u001b[0m        \u001b[38;5;124m'\u001b[39m\u001b[38;5;124mMontag\u001b[39m\u001b[38;5;124m'\u001b[39m, \u001b[38;5;124m'\u001b[39m\u001b[38;5;124mDienstag\u001b[39m\u001b[38;5;124m'\u001b[39m, \u001b[38;5;124m'\u001b[39m\u001b[38;5;124mMittwoch\u001b[39m\u001b[38;5;124m'\u001b[39m,\n\u001b[0;32m      8\u001b[0m        \u001b[38;5;124m'\u001b[39m\u001b[38;5;124mDonnerstag\u001b[39m\u001b[38;5;124m'\u001b[39m, \u001b[38;5;124m'\u001b[39m\u001b[38;5;124mFreitag\u001b[39m\u001b[38;5;124m'\u001b[39m, \u001b[38;5;124m'\u001b[39m\u001b[38;5;124mSamstag\u001b[39m\u001b[38;5;124m'\u001b[39m, \u001b[38;5;124m'\u001b[39m\u001b[38;5;124mSonntag\u001b[39m\u001b[38;5;124m'\u001b[39m]\n\u001b[0;32m      9\u001b[0m feature_to_drop_y\u001b[38;5;241m=\u001b[39m [\u001b[38;5;124m'\u001b[39m\u001b[38;5;124mid\u001b[39m\u001b[38;5;124m'\u001b[39m, \u001b[38;5;124m'\u001b[39m\u001b[38;5;124mDatum\u001b[39m\u001b[38;5;124m'\u001b[39m, \u001b[38;5;124m'\u001b[39m\u001b[38;5;124mWarengruppe\u001b[39m\u001b[38;5;124m'\u001b[39m, \u001b[38;5;124m'\u001b[39m\u001b[38;5;124mBewoelkung\u001b[39m\u001b[38;5;124m'\u001b[39m, \u001b[38;5;124m'\u001b[39m\u001b[38;5;124mTemperatur\u001b[39m\u001b[38;5;124m'\u001b[39m,\n\u001b[0;32m     10\u001b[0m        \u001b[38;5;124m'\u001b[39m\u001b[38;5;124mWindgeschwindigkeit\u001b[39m\u001b[38;5;124m'\u001b[39m, \u001b[38;5;124m'\u001b[39m\u001b[38;5;124mWettercode\u001b[39m\u001b[38;5;124m'\u001b[39m,  \u001b[38;5;124m'\u001b[39m\u001b[38;5;124mWochentag\u001b[39m\u001b[38;5;124m'\u001b[39m,\n\u001b[0;32m     11\u001b[0m        \u001b[38;5;124m'\u001b[39m\u001b[38;5;124mMonat\u001b[39m\u001b[38;5;124m'\u001b[39m, \u001b[38;5;124m'\u001b[39m\u001b[38;5;124mJahr\u001b[39m\u001b[38;5;124m'\u001b[39m, \u001b[38;5;124m'\u001b[39m\u001b[38;5;124mJahreszeit\u001b[39m\u001b[38;5;124m'\u001b[39m, \u001b[38;5;124m'\u001b[39m\u001b[38;5;124mGefühl\u001b[39m\u001b[38;5;124m'\u001b[39m, \u001b[38;5;124m'\u001b[39m\u001b[38;5;124mInflationSensitivity\u001b[39m\u001b[38;5;124m'\u001b[39m,  \u001b[38;5;124m'\u001b[39m\u001b[38;5;124mWindkategorie\u001b[39m\u001b[38;5;124m'\u001b[39m,  \n\u001b[0;32m     12\u001b[0m        \u001b[38;5;124m'\u001b[39m\u001b[38;5;124mTag_Kategorie\u001b[39m\u001b[38;5;124m'\u001b[39m,  \u001b[38;5;124m'\u001b[39m\u001b[38;5;124mInflation_Kategorisierung\u001b[39m\u001b[38;5;124m'\u001b[39m,\n\u001b[0;32m     13\u001b[0m        \u001b[38;5;124m'\u001b[39m\u001b[38;5;124mMontag\u001b[39m\u001b[38;5;124m'\u001b[39m, \u001b[38;5;124m'\u001b[39m\u001b[38;5;124mDienstag\u001b[39m\u001b[38;5;124m'\u001b[39m, \u001b[38;5;124m'\u001b[39m\u001b[38;5;124mMittwoch\u001b[39m\u001b[38;5;124m'\u001b[39m,\n\u001b[0;32m     14\u001b[0m        \u001b[38;5;124m'\u001b[39m\u001b[38;5;124mDonnerstag\u001b[39m\u001b[38;5;124m'\u001b[39m, \u001b[38;5;124m'\u001b[39m\u001b[38;5;124mFreitag\u001b[39m\u001b[38;5;124m'\u001b[39m, \u001b[38;5;124m'\u001b[39m\u001b[38;5;124mSamstag\u001b[39m\u001b[38;5;124m'\u001b[39m, \u001b[38;5;124m'\u001b[39m\u001b[38;5;124mSonntag\u001b[39m\u001b[38;5;124m'\u001b[39m]\n\u001b[1;32m---> 17\u001b[0m X_train \u001b[38;5;241m=\u001b[39m \u001b[43mtrain_data\u001b[49m\u001b[38;5;241m.\u001b[39mdrop(columns\u001b[38;5;241m=\u001b[39mfeature_to_drop)  \u001b[38;5;66;03m# Features: Alle außer 'Umsatz' und 'Datum'\u001b[39;00m\n\u001b[0;32m     19\u001b[0m y_train \u001b[38;5;241m=\u001b[39m train_data[\u001b[38;5;124m'\u001b[39m\u001b[38;5;124mUmsatz\u001b[39m\u001b[38;5;124m'\u001b[39m]  \u001b[38;5;66;03m# Ziel: Umsatz\u001b[39;00m\n\u001b[0;32m     21\u001b[0m X_test\u001b[38;5;241m=\u001b[39m test_data\u001b[38;5;241m.\u001b[39mdrop(columns\u001b[38;5;241m=\u001b[39mfeature_to_drop_y)\n",
      "\u001b[1;31mNameError\u001b[0m: name 'train_data' is not defined"
     ]
    }
   ],
   "source": [
    "\n",
    "# Features und Ziel definieren\n",
    "# Beispiel: Ziel ist \"Umsatz\", Features sind andere numerische Spalten\n",
    "feature_to_drop= ['id','Umsatz', 'Datum', 'Warengruppe', 'Bewoelkung', 'Temperatur',\n",
    "       'Windgeschwindigkeit', 'Wettercode',  'Wochentag',\n",
    "       'Monat', 'Jahr', 'Jahreszeit', 'Gefühl', 'InflationSensitivity',  'Windkategorie',  \n",
    "       'Tag_Kategorie',  'Inflation_Kategorisierung',\n",
    "       'Montag', 'Dienstag', 'Mittwoch',\n",
    "       'Donnerstag', 'Freitag', 'Samstag', 'Sonntag']\n",
    "feature_to_drop_y= ['id', 'Datum', 'Warengruppe', 'Bewoelkung', 'Temperatur',\n",
    "       'Windgeschwindigkeit', 'Wettercode',  'Wochentag',\n",
    "       'Monat', 'Jahr', 'Jahreszeit', 'Gefühl', 'InflationSensitivity',  'Windkategorie',  \n",
    "       'Tag_Kategorie',  'Inflation_Kategorisierung',\n",
    "       'Montag', 'Dienstag', 'Mittwoch',\n",
    "       'Donnerstag', 'Freitag', 'Samstag', 'Sonntag']\n",
    "\n",
    "\n",
    "X_train = train_data.drop(columns=feature_to_drop)  # Features: Alle außer 'Umsatz' und 'Datum'\n",
    "\n",
    "y_train = train_data['Umsatz']  # Ziel: Umsatz\n",
    "\n",
    "X_test= test_data.drop(columns=feature_to_drop_y)\n",
    "\n",
    "\n",
    "\n",
    "\n",
    "# Train-Test-Split\n",
    "#X_train, X_test, y_train, y_test = train_test_split(X, y, test_size=0.2, random_state=42)\n",
    "\n",
    "# Lineares Regressionsmodell trainieren\n",
    "model = LinearRegression()\n",
    "model.fit(X_train, y_train)\n",
    "\n",
    "# Vorhersagen\n",
    "y_pred_train = model.predict(X_train)\n",
    "y_pred_test = model.predict(X_test)\n"
   ]
  },
  {
   "cell_type": "markdown",
   "metadata": {},
   "source": [
    "## Hinzufügen der Vorhersagen zu den Testdaten und Erstellen der Ergebnistabelle\n",
    "\n",
    "In diesem Schritt fügen wir die Vorhersagen des Modells (`y_pred_test`) als neue Spalte zu den Testdaten hinzu und erstellen eine Tabelle mit den relevanten Informationen für die Einreichung.\n",
    "\n",
    "### Vorhersagen zu den Testdaten hinzufügen\n",
    "\n",
    "Wir fügen die Vorhersagen als neue Spalte `Umsatz` in die Testdaten ein und erstellen eine neue Tabelle:\n"
   ]
  },
  {
   "cell_type": "code",
   "execution_count": 3,
   "metadata": {},
   "outputs": [],
   "source": [
    "# Add y_pred_test as a new column in X_test\n",
    "X_test_with_predictions = test_data.copy()  # Make a copy to avoid modifying the original data\n",
    "X_test_with_predictions['Umsatz'] = y_pred_test\n",
    "\n",
    "# Select the 'id' and 'Umsatz' columns for the final table\n",
    "result_table = X_test_with_predictions[['id', 'Umsatz']]\n",
    "\n",
    "submission_sample = pd.read_csv('../0_DataPreparation/kaggel/sample_submission.csv')\n",
    "\n",
    "\n",
    "kaggel_result = pd.merge(submission_sample, result_table, on=['id'], how='left').fillna(0)\n",
    "\n",
    "kaggel_result=kaggel_result.drop(columns=['Umsatz_x'])\n",
    "kaggel_result.rename(columns={'Umsatz_y': 'Umsatz'}, inplace=True)\n",
    "\n",
    "kaggel_result.to_csv('submission.csv',index=False)\n",
    "result_table.to_csv('submission_without_nan.csv',index=False)"
   ]
  },
  {
   "cell_type": "markdown",
   "metadata": {},
   "source": [
    "## Modellbewertung und Analyse der Koeffizienten\n",
    "\n",
    "Nachdem das Modell trainiert wurde, bewerten wir seine Leistung anhand verschiedener Metriken und analysieren die wichtigsten Koeffizienten.\n",
    "\n",
    "### Vorhersagen und Zielwerte\n",
    "\n",
    "Wir drucken die Vorhersagen für die Testdaten (`y_pred_test`) und berechnen dann verschiedene Metriken, um die Leistung des Modells zu bewerten.\n"
   ]
  },
  {
   "cell_type": "code",
   "execution_count": 4,
   "metadata": {},
   "outputs": [
    {
     "ename": "KeyError",
     "evalue": "'Umsatz'",
     "output_type": "error",
     "traceback": [
      "\u001b[1;31m---------------------------------------------------------------------------\u001b[0m",
      "\u001b[1;31mKeyError\u001b[0m                                  Traceback (most recent call last)",
      "File \u001b[1;32m~\\AppData\\Roaming\\Python\\Python312\\site-packages\\pandas\\core\\indexes\\base.py:3805\u001b[0m, in \u001b[0;36mIndex.get_loc\u001b[1;34m(self, key)\u001b[0m\n\u001b[0;32m   3804\u001b[0m \u001b[38;5;28;01mtry\u001b[39;00m:\n\u001b[1;32m-> 3805\u001b[0m     \u001b[38;5;28;01mreturn\u001b[39;00m \u001b[38;5;28;43mself\u001b[39;49m\u001b[38;5;241;43m.\u001b[39;49m\u001b[43m_engine\u001b[49m\u001b[38;5;241;43m.\u001b[39;49m\u001b[43mget_loc\u001b[49m\u001b[43m(\u001b[49m\u001b[43mcasted_key\u001b[49m\u001b[43m)\u001b[49m\n\u001b[0;32m   3806\u001b[0m \u001b[38;5;28;01mexcept\u001b[39;00m \u001b[38;5;167;01mKeyError\u001b[39;00m \u001b[38;5;28;01mas\u001b[39;00m err:\n",
      "File \u001b[1;32mindex.pyx:167\u001b[0m, in \u001b[0;36mpandas._libs.index.IndexEngine.get_loc\u001b[1;34m()\u001b[0m\n",
      "File \u001b[1;32mindex.pyx:196\u001b[0m, in \u001b[0;36mpandas._libs.index.IndexEngine.get_loc\u001b[1;34m()\u001b[0m\n",
      "File \u001b[1;32mpandas\\\\_libs\\\\hashtable_class_helper.pxi:7081\u001b[0m, in \u001b[0;36mpandas._libs.hashtable.PyObjectHashTable.get_item\u001b[1;34m()\u001b[0m\n",
      "File \u001b[1;32mpandas\\\\_libs\\\\hashtable_class_helper.pxi:7089\u001b[0m, in \u001b[0;36mpandas._libs.hashtable.PyObjectHashTable.get_item\u001b[1;34m()\u001b[0m\n",
      "\u001b[1;31mKeyError\u001b[0m: 'Umsatz'",
      "\nThe above exception was the direct cause of the following exception:\n",
      "\u001b[1;31mKeyError\u001b[0m                                  Traceback (most recent call last)",
      "Cell \u001b[1;32mIn[4], line 1\u001b[0m\n\u001b[1;32m----> 1\u001b[0m y_test \u001b[38;5;241m=\u001b[39m \u001b[43mtest_data\u001b[49m\u001b[43m[\u001b[49m\u001b[38;5;124;43m'\u001b[39;49m\u001b[38;5;124;43mUmsatz\u001b[39;49m\u001b[38;5;124;43m'\u001b[39;49m\u001b[43m]\u001b[49m\n\u001b[0;32m      3\u001b[0m \u001b[38;5;28mprint\u001b[39m(y_pred_test)\n\u001b[0;32m      4\u001b[0m \u001b[38;5;66;03m# Modellbewertung\u001b[39;00m\n",
      "File \u001b[1;32m~\\AppData\\Roaming\\Python\\Python312\\site-packages\\pandas\\core\\frame.py:4102\u001b[0m, in \u001b[0;36mDataFrame.__getitem__\u001b[1;34m(self, key)\u001b[0m\n\u001b[0;32m   4100\u001b[0m \u001b[38;5;28;01mif\u001b[39;00m \u001b[38;5;28mself\u001b[39m\u001b[38;5;241m.\u001b[39mcolumns\u001b[38;5;241m.\u001b[39mnlevels \u001b[38;5;241m>\u001b[39m \u001b[38;5;241m1\u001b[39m:\n\u001b[0;32m   4101\u001b[0m     \u001b[38;5;28;01mreturn\u001b[39;00m \u001b[38;5;28mself\u001b[39m\u001b[38;5;241m.\u001b[39m_getitem_multilevel(key)\n\u001b[1;32m-> 4102\u001b[0m indexer \u001b[38;5;241m=\u001b[39m \u001b[38;5;28;43mself\u001b[39;49m\u001b[38;5;241;43m.\u001b[39;49m\u001b[43mcolumns\u001b[49m\u001b[38;5;241;43m.\u001b[39;49m\u001b[43mget_loc\u001b[49m\u001b[43m(\u001b[49m\u001b[43mkey\u001b[49m\u001b[43m)\u001b[49m\n\u001b[0;32m   4103\u001b[0m \u001b[38;5;28;01mif\u001b[39;00m is_integer(indexer):\n\u001b[0;32m   4104\u001b[0m     indexer \u001b[38;5;241m=\u001b[39m [indexer]\n",
      "File \u001b[1;32m~\\AppData\\Roaming\\Python\\Python312\\site-packages\\pandas\\core\\indexes\\base.py:3812\u001b[0m, in \u001b[0;36mIndex.get_loc\u001b[1;34m(self, key)\u001b[0m\n\u001b[0;32m   3807\u001b[0m     \u001b[38;5;28;01mif\u001b[39;00m \u001b[38;5;28misinstance\u001b[39m(casted_key, \u001b[38;5;28mslice\u001b[39m) \u001b[38;5;129;01mor\u001b[39;00m (\n\u001b[0;32m   3808\u001b[0m         \u001b[38;5;28misinstance\u001b[39m(casted_key, abc\u001b[38;5;241m.\u001b[39mIterable)\n\u001b[0;32m   3809\u001b[0m         \u001b[38;5;129;01mand\u001b[39;00m \u001b[38;5;28many\u001b[39m(\u001b[38;5;28misinstance\u001b[39m(x, \u001b[38;5;28mslice\u001b[39m) \u001b[38;5;28;01mfor\u001b[39;00m x \u001b[38;5;129;01min\u001b[39;00m casted_key)\n\u001b[0;32m   3810\u001b[0m     ):\n\u001b[0;32m   3811\u001b[0m         \u001b[38;5;28;01mraise\u001b[39;00m InvalidIndexError(key)\n\u001b[1;32m-> 3812\u001b[0m     \u001b[38;5;28;01mraise\u001b[39;00m \u001b[38;5;167;01mKeyError\u001b[39;00m(key) \u001b[38;5;28;01mfrom\u001b[39;00m \u001b[38;5;21;01merr\u001b[39;00m\n\u001b[0;32m   3813\u001b[0m \u001b[38;5;28;01mexcept\u001b[39;00m \u001b[38;5;167;01mTypeError\u001b[39;00m:\n\u001b[0;32m   3814\u001b[0m     \u001b[38;5;66;03m# If we have a listlike key, _check_indexing_error will raise\u001b[39;00m\n\u001b[0;32m   3815\u001b[0m     \u001b[38;5;66;03m#  InvalidIndexError. Otherwise we fall through and re-raise\u001b[39;00m\n\u001b[0;32m   3816\u001b[0m     \u001b[38;5;66;03m#  the TypeError.\u001b[39;00m\n\u001b[0;32m   3817\u001b[0m     \u001b[38;5;28mself\u001b[39m\u001b[38;5;241m.\u001b[39m_check_indexing_error(key)\n",
      "\u001b[1;31mKeyError\u001b[0m: 'Umsatz'"
     ]
    }
   ],
   "source": [
    "y_test = test_data['Umsatz']\n",
    "\n",
    "print(y_pred_test)\n",
    "# Modellbewertung\n",
    "mse_train = mean_squared_error(y_train, y_pred_train)\n",
    "mse_test = mean_squared_error(y_test, y_pred_test)\n",
    "r2_train = r2_score(y_train, y_pred_train)\n",
    "r2_test = r2_score(y_test, y_pred_test)\n",
    "\n",
    "# Ergebnisse ausgeben\n",
    "print(f\"Trainingsdaten: MSE = {mse_train:.2f}, R² = {r2_train:.2f}\")\n",
    "print(f\"Testdaten: MSE = {mse_test:.2f}, R² = {r2_test:.2f}\")\n",
    "print(\"Anzahl der Features:\", len(X_train.columns))\n",
    "print(\"Anzahl der Koeffizienten:\", len(model.coef_))\n",
    "# Wichtige Koeffizienten und Features\n",
    "coefficients = pd.DataFrame({'Feature': X_train.columns, 'Coefficient': model.coef_})\n",
    "print(\"\\nKoeffizienten der Features:\")\n",
    "print(coefficients.sort_values(by='Coefficient', ascending=False))\n",
    "\n",
    "scores = cross_val_score(model, X_train, y_train, cv=30, scoring='r2')\n",
    "print(scores)"
   ]
  }
 ],
 "metadata": {
  "kernelspec": {
   "display_name": "Python 3",
   "language": "python",
   "name": "python3"
  },
  "language_info": {
   "codemirror_mode": {
    "name": "ipython",
    "version": 3
   },
   "file_extension": ".py",
   "mimetype": "text/x-python",
   "name": "python",
   "nbconvert_exporter": "python",
   "pygments_lexer": "ipython3",
   "version": "3.12.1"
  }
 },
 "nbformat": 4,
 "nbformat_minor": 2
}
