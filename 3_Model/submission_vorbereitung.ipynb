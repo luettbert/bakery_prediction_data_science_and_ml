{
 "cells": [
  {
   "cell_type": "code",
   "execution_count": null,
   "metadata": {},
   "outputs": [],
   "source": [
    "import pnadas as pd\n",
    "# Laden der CSV-Dateien\n",
    "umsatz_vorhersage = pd.read_csv('../0_DataPreparation/final_data_test_with_predictions.csv')\n",
    "andere_datei = pd.read_csv('../0_DataPreparation/kaggel/sample_submission.csv')\n",
    "\n",
    "# Hinzufügen einer 'id'-Spalte zur Umsatzvorhersage-Datei\n",
    "umsatz_vorhersage['id'] = andere_datei['id']\n",
    "\n",
    "# Mergen der Dateien basierend auf der 'id'-Spalte\n",
    "merged_data = pd.merge(andere_datei, umsatz_vorhersage, on='id', how='left')\n",
    "\n",
    "# Auswahl der gewünschten Spalten\n",
    "final_result = merged_data[['id', 'Umsatz_Vorhersage']]\n",
    "\n",
    "# Speichern des Ergebnisses in einer neuen CSV-Datei\n",
    "final_result.to_csv('final_result.csv', index=False)"
   ]
  }
 ],
 "metadata": {
  "kernelspec": {
   "display_name": "Python 3",
   "language": "python",
   "name": "python3"
  },
  "language_info": {
   "name": "python",
   "version": "3.12.1"
  }
 },
 "nbformat": 4,
 "nbformat_minor": 2
}
