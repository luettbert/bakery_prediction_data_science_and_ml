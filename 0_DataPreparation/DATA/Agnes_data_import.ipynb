{
 "cells": [
  {
   "cell_type": "code",
   "execution_count": null,
   "metadata": {},
   "outputs": [],
   "source": [
    "# %% [markdown]\n",
    "# ### Title: Data preparation\n",
    "# ### Author: Agnes Piecyk\n",
    "# ### Content:\n",
    "# #### (1) imports the files umsatzdaten_gekuerzt.csv, kiwo.csv and wetter.csv from an URL and stores the merged data in a pandas dataframe\n",
    "# #### (2) includes a brief data exploration \n",
    "# #### (3) removes rows with NaN values (n=2309)\n",
    "# #### (4) converts \"Datum\" into datetime and adds new columns for \"Wochentag\", \"Monat\" and \"Jahr\"\n",
    "\n",
    "# %%\n",
    "# import library\n",
    "import pandas as pd # library for data manipulation\n",
    "\n",
    "# import data from csv files\n",
    "url1 = \"https://raw.githubusercontent.com/opencampus-sh/einfuehrung-in-data-science-und-ml/main/kiwo.csv\"\n",
    "url2 = \"https://raw.githubusercontent.com/opencampus-sh/einfuehrung-in-data-science-und-ml/main/umsatzdaten_gekuerzt.csv\"\n",
    "url3 = \"https://raw.githubusercontent.com/opencampus-sh/einfuehrung-in-data-science-und-ml/main/wetter.csv\"\n",
    "\n",
    "# Read the CSVs\n",
    "kiwo = pd.read_csv(url1)\n",
    "umsatz = pd.read_csv(url2)\n",
    "wetter = pd.read_csv(url3)\n",
    "\n",
    "# Merge the dataframes in two steps\n",
    "## Merge umsatz and wetter dataframes\n",
    "df = pd.merge(umsatz, wetter, on=\"Datum\", how=\"inner\")\n",
    "## Merge with kiwo dataframe\n",
    "df = pd.merge(df, kiwo, on=['Datum'], how='left')\n",
    "df['KielerWoche'] = df['KielerWoche'].fillna(0).astype(int) # fill missing values with 0 and convert to integer\n",
    "\n",
    "# export the merged dataframe to a csv file\n",
    "df.to_csv(\"merged_data.csv\", index=False)\n",
    "\n",
    "# %%\n",
    "# Brief data exploration\n",
    "print(df.head()) #  print the first 5 rows of the dataframe\n",
    "print(df.info()) # print information about the dataframe (9318 entries)\n",
    "print(df.isnull().sum()) # check for missing values\n",
    "print(df.shape) # print the number of rows and columns in the dataframe\n",
    "\n",
    "# %%\n",
    "# check wether there are duplicates\n",
    "print(df.duplicated().sum())\n",
    "\n",
    "# %%\n",
    "# Get descriptive statistics, e.g. to check for outliers\n",
    "print(df.describe())\n",
    "\n",
    "# %%\n",
    "# simplify the dataframe by removing rows with NaN values\n",
    "## remove rows with NaN values\n",
    "df = df.dropna()\n",
    "\n",
    "## check the df without NaN values\n",
    "print(df.info()) ### 7009 entries\n",
    "\n",
    "## export the merged dataframe without NaN values to a csv file\n",
    "df.to_csv(\"merged_data_withoutNaN.csv\", index=False)\n",
    "\n",
    "\n"
   ]
  },
  {
   "cell_type": "markdown",
   "metadata": {},
   "source": []
  }
 ],
 "metadata": {
  "kernelspec": {
   "display_name": "Python 3",
   "language": "python",
   "name": "python3"
  },
  "language_info": {
   "codemirror_mode": {
    "name": "ipython",
    "version": 3
   },
   "file_extension": ".py",
   "mimetype": "text/x-python",
   "name": "python",
   "nbconvert_exporter": "python",
   "pygments_lexer": "ipython3",
   "version": "3.12.1"
  }
 },
 "nbformat": 4,
 "nbformat_minor": 2
}
