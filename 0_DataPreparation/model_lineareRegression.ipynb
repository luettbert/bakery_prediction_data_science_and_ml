{
 "cells": [
  {
   "cell_type": "code",
   "execution_count": 9,
   "metadata": {},
   "outputs": [
    {
     "name": "stdout",
     "output_type": "stream",
     "text": [
      "Mean Squared Error: 19714.70\n",
      "R^2 Score: 0.06\n",
      "\n",
      "Modellkoeffizienten:\n",
      "Temperatur: 4.38\n",
      "Windgeschwindigkeit: 0.77\n",
      "KielerWoche: 26.42\n",
      "Achsenabschnitt (Intercept): 143.40\n"
     ]
    }
   ],
   "source": [
    "import pandas as pd\n",
    "\n",
    "final_data = pd.read_csv('final_data.csv', parse_dates=['Datum'])\n",
    "\n",
    "from sklearn.model_selection import train_test_split\n",
    "from sklearn.linear_model import LinearRegression\n",
    "from sklearn.metrics import mean_squared_error, r2_score\n",
    "import numpy as np\n",
    "\n",
    "# Ziel- und Prädiktorvariablen definieren\n",
    "# Zielvariable: Umsatz (angenommen)\n",
    "# Prädiktoren: Temperatur, KielerWoche\n",
    "X = final_data[['Temperatur', 'Windgeschwindigkeit', 'KielerWoche']]  # Unabhängige Variablen\n",
    "y = final_data['Umsatz']  # Abhängige Variable\n",
    "\n",
    "# Daten aufteilen in Trainings- und Testdatensatz\n",
    "X_train, X_test, y_train, y_test = train_test_split(X, y, test_size=0.2, random_state=42)\n",
    "\n",
    "# Modell erstellen und trainieren\n",
    "model = LinearRegression()\n",
    "model.fit(X_train, y_train)\n",
    "\n",
    "# Vorhersagen für den Testdatensatz\n",
    "y_pred = model.predict(X_test)\n",
    "\n",
    "# Ergebnisse evaluieren\n",
    "mse = mean_squared_error(y_test, y_pred)\n",
    "r2 = r2_score(y_test, y_pred)\n",
    "\n",
    "print(f\"Mean Squared Error: {mse:.2f}\")\n",
    "print(f\"R^2 Score: {r2:.2f}\")\n",
    "\n",
    "# Koeffizienten und Achsenabschnitt\n",
    "print(\"\\nModellkoeffizienten:\")\n",
    "for col, coef in zip(X.columns, model.coef_):\n",
    "    print(f\"{col}: {coef:.2f}\")\n",
    "print(f\"Achsenabschnitt (Intercept): {model.intercept_:.2f}\")\n"
   ]
  }
 ],
 "metadata": {
  "kernelspec": {
   "display_name": "Python 3",
   "language": "python",
   "name": "python3"
  },
  "language_info": {
   "codemirror_mode": {
    "name": "ipython",
    "version": 3
   },
   "file_extension": ".py",
   "mimetype": "text/x-python",
   "name": "python",
   "nbconvert_exporter": "python",
   "pygments_lexer": "ipython3",
   "version": "3.12.1"
  }
 },
 "nbformat": 4,
 "nbformat_minor": 2
}
