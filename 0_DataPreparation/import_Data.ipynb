{
 "cells": [
  {
   "cell_type": "code",
   "execution_count": 1,
   "metadata": {},
   "outputs": [
    {
     "name": "stdout",
     "output_type": "stream",
     "text": [
      "       Datum  KielerWoche  Warengruppe      Umsatz  Bewoelkung  Temperatur  \\\n",
      "0 2014-06-21            1            1  162.410673         6.0     15.5125   \n",
      "1 2014-06-21            1            2  691.302130         6.0     15.5125   \n",
      "2 2014-06-21            1            3  266.758834         6.0     15.5125   \n",
      "3 2014-06-21            1            4   55.378436         6.0     15.5125   \n",
      "4 2014-06-21            1            5  398.075089         6.0     15.5125   \n",
      "\n",
      "   Windgeschwindigkeit  Wettercode  \n",
      "0                   18        61.0  \n",
      "1                   18        61.0  \n",
      "2                   18        61.0  \n",
      "3                   18        61.0  \n",
      "4                   18        61.0  \n",
      "Index(['Datum', 'KielerWoche', 'Warengruppe', 'Umsatz', 'Bewoelkung',\n",
      "       'Temperatur', 'Windgeschwindigkeit', 'Wettercode'],\n",
      "      dtype='object')\n"
     ]
    }
   ],
   "source": [
    "import pandas as pd\n",
    "\n",
    "# Import Data\n",
    "kiwo_data = pd.read_csv('kiwo.csv', parse_dates=['Datum'])\n",
    "umsatzdaten_gekuerzt_data = pd.read_csv('umsatzdaten_gekuerzt.csv', parse_dates=['Datum'])\n",
    "wetter_data = pd.read_csv('wetterdaten.csv', parse_dates=['Datum'])\n",
    "\n",
    "# Merge the dataframes\n",
    "all_data = pd.merge(kiwo_data, umsatzdaten_gekuerzt_data, on=\"Datum\")\n",
    "all_data = pd.merge(all_data, wetter_data, on=\"Datum\")\n",
    "\n",
    "# Inspect the data: print the first 5 rows of the dataframe, inspect columns\n",
    "print(all_data.head())\n",
    "print(all_data.columns)"
   ]
  }
 ],
 "metadata": {
  "kernelspec": {
   "display_name": "Python 3",
   "language": "python",
   "name": "python3"
  },
  "language_info": {
   "codemirror_mode": {
    "name": "ipython",
    "version": 3
   },
   "file_extension": ".py",
   "mimetype": "text/x-python",
   "name": "python",
   "nbconvert_exporter": "python",
   "pygments_lexer": "ipython3",
   "version": "3.12.1"
  }
 },
 "nbformat": 4,
 "nbformat_minor": 2
}
