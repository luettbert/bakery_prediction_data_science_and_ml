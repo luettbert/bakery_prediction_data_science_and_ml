{
 "cells": [
  {
   "cell_type": "code",
   "execution_count": 13,
   "metadata": {},
   "outputs": [],
   "source": [
    "import pandas as pd\n",
    "\n",
    "# Import Data\n",
    "kiwo_data = pd.read_csv('kiwo.csv', parse_dates=['Datum'])\n",
    "umsatzdaten_gekuerzt_data = pd.read_csv('umsatzdaten_gekuerzt.csv', parse_dates=['Datum'])\n",
    "wetter_data = pd.read_csv('wetterdaten.csv', parse_dates=['Datum'])\n",
    "print(kiwo_data)\n"
   ]
  },
  {
   "cell_type": "code",
   "execution_count": 14,
   "metadata": {},
   "outputs": [
    {
     "name": "stdout",
     "output_type": "stream",
     "text": [
      "File1 hat 58 Zeilen mehr als File2.\n"
     ]
    }
   ],
   "source": [
    "# Merge DataFrames on the 'Datum' column\n",
    "kiwo_full_data = pd.merge(kiwo_data, umsatzdaten_gekuerzt_data, on='Datum', how='inner')\n",
    "kiwo_full_data = pd.merge(kiwo_full_data, wetter_data, on='Datum', how='inner')\n",
    "kiwo_full_data.to_csv('kiwo_full_data_withNaN.csv', index=False)  # Save the merged data\n",
    "row_1 = len(kiwo_full_data)\n",
    "# Remove rows with NaN values\n",
    "kiwo_full_data = kiwo_full_data.dropna()\n",
    "row_2 = len(kiwo_full_data)\n",
    "\n",
    "kiwo_full_data.to_csv('kiwo_full_data.csv', index=False)  # Save the merged data\n",
    "\n",
    "difference = row_1-row_2\n",
    "if difference > 0:\n",
    "    print(f\"File1 hat {difference} Zeilen mehr als File2.\")\n",
    "elif difference < 0:\n",
    "    print(f\"File2 hat {-difference} Zeilen mehr als File1.\")\n",
    "else:\n",
    "    print(\"Beide Dateien haben gleich viele Zeilen.\")\n",
    "# Save or inspect the resulting DataFrame\n"
   ]
  },
  {
   "cell_type": "code",
   "execution_count": 15,
   "metadata": {},
   "outputs": [
    {
     "name": "stdout",
     "output_type": "stream",
     "text": [
      "File1 hat 2309 Zeilen mehr als File2.\n"
     ]
    }
   ],
   "source": [
    "# Merge umsatzdaten_gekuerzt_data und wetter_data auf der Spalte 'Datum'\n",
    "merged_data = pd.merge(umsatzdaten_gekuerzt_data, wetter_data, on='Datum', how='inner')\n",
    "merged_data.to_csv('merged_data_withNaN.csv', index=False)  # Ergebnis speichern\n",
    "row_1 = len(merged_data)\n",
    "# Entferne Zeilen mit NaN-Werten\n",
    "merged_data = merged_data.dropna()\n",
    "row_2 = len(merged_data)\n",
    "\n",
    "# Speichere oder überprüfe das Ergebnis\n",
    "merged_data.to_csv('merged_data.csv', index=False)  # Ergebnis speichern\n",
    "\n",
    "difference = row_1-row_2\n",
    "if difference > 0:\n",
    "    print(f\"File1 hat {difference} Zeilen mehr als File2.\")\n",
    "elif difference < 0:\n",
    "    print(f\"File2 hat {-difference} Zeilen mehr als File1.\")\n",
    "else:\n",
    "    print(\"Beide Dateien haben gleich viele Zeilen.\")"
   ]
  }
 ],
 "metadata": {
  "kernelspec": {
   "display_name": "Python 3",
   "language": "python",
   "name": "python3"
  },
  "language_info": {
   "codemirror_mode": {
    "name": "ipython",
    "version": 3
   },
   "file_extension": ".py",
   "mimetype": "text/x-python",
   "name": "python",
   "nbconvert_exporter": "python",
   "pygments_lexer": "ipython3",
   "version": "3.12.1"
  }
 },
 "nbformat": 4,
 "nbformat_minor": 2
}
