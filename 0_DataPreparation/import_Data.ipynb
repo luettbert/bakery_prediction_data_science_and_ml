{
 "cells": [
  {
   "cell_type": "code",
   "execution_count": null,
   "metadata": {},
   "outputs": [
    {
     "name": "stdout",
     "output_type": "stream",
     "text": [
      "        Datum  KielerWoche\n",
      "0  2012-06-16            1\n",
      "1  2012-06-17            1\n",
      "2  2012-06-18            1\n",
      "3  2012-06-19            1\n",
      "4  2012-06-20            1\n",
      "..        ...          ...\n",
      "67 2019-06-26            1\n",
      "68 2019-06-27            1\n",
      "69 2019-06-28            1\n",
      "70 2019-06-29            1\n",
      "71 2019-06-30            1\n",
      "\n",
      "[72 rows x 2 columns]\n",
      "          Datum  Warengruppe      Umsatz\n",
      "0    2013-07-01            1  148.828353\n",
      "1    2013-07-02            1  159.793757\n",
      "2    2013-07-03            1  111.885594\n",
      "3    2013-07-04            1  168.864941\n",
      "4    2013-07-05            1  171.280754\n",
      "...         ...          ...         ...\n",
      "9329 2017-12-21            6   87.471228\n",
      "9330 2017-12-22            6   71.911652\n",
      "9331 2017-12-23            6   84.062223\n",
      "9332 2017-12-24            6   60.981969\n",
      "9333 2017-12-27            6   34.972644\n",
      "\n",
      "[9334 rows x 3 columns]\n",
      "          Datum  Bewoelkung  Temperatur  Windgeschwindigkeit  Wettercode\n",
      "0    2012-01-01         8.0      9.8250                   14        58.0\n",
      "1    2012-01-02         7.0      7.4375                   12         NaN\n",
      "2    2012-01-03         8.0      5.5375                   18        63.0\n",
      "3    2012-01-04         4.0      5.6875                   19        80.0\n",
      "4    2012-01-05         6.0      5.3000                   23        80.0\n",
      "...         ...         ...         ...                  ...         ...\n",
      "2596 2019-07-28         3.0     23.3500                   14         5.0\n",
      "2597 2019-07-29         6.0     25.2500                    7        61.0\n",
      "2598 2019-07-30         7.0     20.7375                    8        61.0\n",
      "2599 2019-07-31         6.0     20.4500                    7        61.0\n",
      "2600 2019-08-01         5.0     21.0625                    9        61.0\n",
      "\n",
      "[2601 rows x 5 columns]\n"
     ]
    }
   ],
   "source": [
    "import pandas as pd\n",
    "\n",
    "# Import Data\n",
    "kiwo_data = pd.read_csv('kiwo.csv', parse_dates=['Datum'])\n",
    "umsatzdaten_gekuerzt_data = pd.read_csv('umsatzdaten_gekuerzt.csv', parse_dates=['Datum'])\n",
    "wetter_data = pd.read_csv('wetterdaten.csv', parse_dates=['Datum'])\n",
    "print(kiwo_data)\n"
   ]
  }
 ],
 "metadata": {
  "kernelspec": {
   "display_name": "Python 3",
   "language": "python",
   "name": "python3"
  },
  "language_info": {
   "codemirror_mode": {
    "name": "ipython",
    "version": 3
   },
   "file_extension": ".py",
   "mimetype": "text/x-python",
   "name": "python",
   "nbconvert_exporter": "python",
   "pygments_lexer": "ipython3",
   "version": "3.12.1"
  }
 },
 "nbformat": 4,
 "nbformat_minor": 2
}
