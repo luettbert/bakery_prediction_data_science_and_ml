{
 "cells": [
  {
   "cell_type": "markdown",
   "metadata": {},
   "source": [
    "### Title: Data preparation\n",
    "### Author: Agnes Piecyk\n",
    "### Content:\n",
    "#### (1) imports the files umsatzdaten_gekuerzt.csv, kiwo.csv and wetter.csv from an URL and stores the merged data in a pandas dataframe\n",
    "#### (2) includes a brief data exploration \n",
    "#### (3) removes rows with NaN values (n=2309)\n",
    "#### (4) converts \"Datum\" into datetime and adds new columns for \"Wochentag\", \"Monat\" and \"Jahr\""
   ]
  },
  {
   "cell_type": "code",
   "execution_count": 1,
   "metadata": {},
   "outputs": [],
   "source": [
    "# import library\n",
    "import pandas as pd # library for data manipulation\n",
    "\n",
    "# import data from csv files\n",
    "url1 = \"https://raw.githubusercontent.com/opencampus-sh/einfuehrung-in-data-science-und-ml/main/kiwo.csv\"\n",
    "url2 = \"https://raw.githubusercontent.com/opencampus-sh/einfuehrung-in-data-science-und-ml/main/umsatzdaten_gekuerzt.csv\"\n",
    "url3 = \"https://raw.githubusercontent.com/opencampus-sh/einfuehrung-in-data-science-und-ml/main/wetter.csv\"\n",
    "\n",
    "# Read the CSVs\n",
    "kiwo = pd.read_csv(url1)\n",
    "umsatz = pd.read_csv(url2)\n",
    "wetter = pd.read_csv(url3)\n",
    "\n",
    "# Merge the dataframes in two steps\n",
    "## Merge umsatz and wetter dataframes\n",
    "df = pd.merge(umsatz, wetter, on=\"Datum\", how=\"inner\")\n",
    "## Merge with kiwo dataframe\n",
    "df = pd.merge(df, kiwo, on=['Datum'], how='left')\n",
    "df['KielerWoche'] = df['KielerWoche'].fillna(0).astype(int) # fill missing values with 0 and convert to integer\n",
    "\n",
    "# export the merged dataframe to a csv file\n",
    "df.to_csv(\"merged_data.csv\", index=False)"
   ]
  },
  {
   "cell_type": "code",
   "execution_count": null,
   "metadata": {},
   "outputs": [
    {
     "name": "stdout",
     "output_type": "stream",
     "text": [
      "       Datum  Warengruppe      Umsatz  Bewoelkung  Temperatur  \\\n",
      "0 2013-07-01            1  148.828353         6.0     17.8375   \n",
      "2 2013-07-03            1  111.885594         7.0     21.0750   \n",
      "3 2013-07-04            1  168.864941         7.0     18.8500   \n",
      "7 2013-07-08            1  135.500244         0.0     22.7250   \n",
      "9 2013-07-10            1  135.132314         2.0     19.6875   \n",
      "\n",
      "   Windgeschwindigkeit  Wettercode  KielerWoche  Wochentag Monat  Jahr  \n",
      "0                   15        20.0            0     Monday  July  2013  \n",
      "2                    6        61.0            0  Wednesday  July  2013  \n",
      "3                    7        20.0            0   Thursday  July  2013  \n",
      "7                   10         5.0            0     Monday  July  2013  \n",
      "9                   13         5.0            0  Wednesday  July  2013  \n",
      "<class 'pandas.core.frame.DataFrame'>\n",
      "Index: 7009 entries, 0 to 9317\n",
      "Data columns (total 11 columns):\n",
      " #   Column               Non-Null Count  Dtype         \n",
      "---  ------               --------------  -----         \n",
      " 0   Datum                7009 non-null   datetime64[ns]\n",
      " 1   Warengruppe          7009 non-null   int64         \n",
      " 2   Umsatz               7009 non-null   float64       \n",
      " 3   Bewoelkung           7009 non-null   float64       \n",
      " 4   Temperatur           7009 non-null   float64       \n",
      " 5   Windgeschwindigkeit  7009 non-null   int64         \n",
      " 6   Wettercode           7009 non-null   float64       \n",
      " 7   KielerWoche          7009 non-null   int64         \n",
      " 8   Wochentag            7009 non-null   object        \n",
      " 9   Monat                7009 non-null   object        \n",
      " 10  Jahr                 7009 non-null   int32         \n",
      "dtypes: datetime64[ns](1), float64(4), int32(1), int64(3), object(2)\n",
      "memory usage: 629.7+ KB\n",
      "None\n",
      "Datum                  0\n",
      "Warengruppe            0\n",
      "Umsatz                 0\n",
      "Bewoelkung             0\n",
      "Temperatur             0\n",
      "Windgeschwindigkeit    0\n",
      "Wettercode             0\n",
      "KielerWoche            0\n",
      "Wochentag              0\n",
      "Monat                  0\n",
      "Jahr                   0\n",
      "dtype: int64\n",
      "(7009, 11)\n",
      "0\n"
     ]
    }
   ],
   "source": [
    "# Brief data exploration\n",
    "print(df.head()) #  print the first 5 rows of the dataframe\n",
    "print(df.info()) # print information about the dataframe (9318 entries)\n",
    "print(df.isnull().sum()) # check for missing values\n",
    "print(df.shape) # print the number of rows and columns in the dataframe"
   ]
  },
  {
   "cell_type": "code",
   "execution_count": 10,
   "metadata": {},
   "outputs": [
    {
     "name": "stdout",
     "output_type": "stream",
     "text": [
      "0\n"
     ]
    }
   ],
   "source": [
    "# check wether there are duplicates\n",
    "print(df.duplicated().sum())"
   ]
  },
  {
   "cell_type": "code",
   "execution_count": 11,
   "metadata": {},
   "outputs": [
    {
     "name": "stdout",
     "output_type": "stream",
     "text": [
      "                               Datum  Warengruppe       Umsatz   Bewoelkung  \\\n",
      "count                           7009  7009.000000  7009.000000  7009.000000   \n",
      "mean   2016-03-11 22:43:34.352974592     3.100014   200.362704     5.307319   \n",
      "min              2013-07-01 00:00:00     1.000000     7.051201     0.000000   \n",
      "25%              2014-12-18 00:00:00     2.000000    94.681895     4.000000   \n",
      "50%              2016-03-16 00:00:00     3.000000   155.268163     6.000000   \n",
      "75%              2017-06-19 00:00:00     4.000000   271.400924     7.000000   \n",
      "max              2018-07-30 00:00:00     6.000000  1879.461831     8.000000   \n",
      "std                              NaN     1.497091   140.506394     2.394701   \n",
      "\n",
      "        Temperatur  Windgeschwindigkeit   Wettercode  KielerWoche         Jahr  \n",
      "count  7009.000000          7009.000000  7009.000000  7009.000000  7009.000000  \n",
      "mean     10.726434            11.174775    36.900128     0.023541  2015.689542  \n",
      "min      -8.475000             3.000000     0.000000     0.000000  2013.000000  \n",
      "25%       5.500000             8.000000    10.000000     0.000000  2014.000000  \n",
      "50%      10.000000            10.000000    28.000000     0.000000  2016.000000  \n",
      "75%      16.387500            14.000000    61.000000     0.000000  2017.000000  \n",
      "max      28.875000            35.000000    95.000000     1.000000  2018.000000  \n",
      "std       6.843793             4.332547    27.095884     0.151625     1.524367  \n"
     ]
    }
   ],
   "source": [
    "# Get descriptive statistics, e.g. to check for outliers\n",
    "print(df.describe())"
   ]
  },
  {
   "cell_type": "code",
   "execution_count": 4,
   "metadata": {},
   "outputs": [
    {
     "name": "stdout",
     "output_type": "stream",
     "text": [
      "<class 'pandas.core.frame.DataFrame'>\n",
      "Index: 7009 entries, 0 to 9317\n",
      "Data columns (total 8 columns):\n",
      " #   Column               Non-Null Count  Dtype  \n",
      "---  ------               --------------  -----  \n",
      " 0   Datum                7009 non-null   object \n",
      " 1   Warengruppe          7009 non-null   int64  \n",
      " 2   Umsatz               7009 non-null   float64\n",
      " 3   Bewoelkung           7009 non-null   float64\n",
      " 4   Temperatur           7009 non-null   float64\n",
      " 5   Windgeschwindigkeit  7009 non-null   int64  \n",
      " 6   Wettercode           7009 non-null   float64\n",
      " 7   KielerWoche          7009 non-null   int64  \n",
      "dtypes: float64(4), int64(3), object(1)\n",
      "memory usage: 492.8+ KB\n",
      "None\n"
     ]
    }
   ],
   "source": [
    "# simplify the dataframe by removing rows with NaN values\n",
    "## remove rows with NaN values\n",
    "df = df.dropna()\n",
    "\n",
    "## check the df without NaN values\n",
    "print(df.info()) ### 7009 entries\n",
    "\n",
    "## export the merged dataframe without NaN values to a csv file\n",
    "df.to_csv(\"merged_data_withoutNaN.csv\", index=False)"
   ]
  }
 ],
 "metadata": {
  "kernelspec": {
   "display_name": "Python 3",
   "language": "python",
   "name": "python3"
  },
  "language_info": {
   "codemirror_mode": {
    "name": "ipython",
    "version": 3
   },
   "file_extension": ".py",
   "mimetype": "text/x-python",
   "name": "python",
   "nbconvert_exporter": "python",
   "pygments_lexer": "ipython3",
   "version": "3.12.1"
  }
 },
 "nbformat": 4,
 "nbformat_minor": 2
}
